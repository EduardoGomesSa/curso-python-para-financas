{
 "cells": [
  {
   "cell_type": "code",
   "execution_count": 4,
   "id": "fe040713-6e10-402c-9440-4242f11be4fa",
   "metadata": {},
   "outputs": [
    {
     "data": {
      "text/plain": [
       "[1, 2, 3, 4]"
      ]
     },
     "execution_count": 4,
     "metadata": {},
     "output_type": "execute_result"
    }
   ],
   "source": [
    "x = [1, 2, 3, 4]\n",
    "x"
   ]
  },
  {
   "cell_type": "markdown",
   "id": "d41a2df6-b91e-42d6-892d-d395fd7df40f",
   "metadata": {},
   "source": [
    "text:"
   ]
  },
  {
   "cell_type": "code",
   "execution_count": null,
   "id": "22b11589-a69b-4949-93b0-308a8bd031d5",
   "metadata": {},
   "outputs": [],
   "source": []
  }
 ],
 "metadata": {
  "kernelspec": {
   "display_name": "Python 3 (ipykernel)",
   "language": "python",
   "name": "python3"
  },
  "language_info": {
   "codemirror_mode": {
    "name": "ipython",
    "version": 3
   },
   "file_extension": ".py",
   "mimetype": "text/x-python",
   "name": "python",
   "nbconvert_exporter": "python",
   "pygments_lexer": "ipython3",
   "version": "3.12.7"
  }
 },
 "nbformat": 4,
 "nbformat_minor": 5
}
