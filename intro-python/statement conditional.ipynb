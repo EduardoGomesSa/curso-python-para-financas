{
 "cells": [
  {
   "cell_type": "code",
   "execution_count": 1,
   "id": "723faf35-07e3-4204-a961-dbe6d9f91e30",
   "metadata": {},
   "outputs": [
    {
     "name": "stdout",
     "output_type": "stream",
     "text": [
      "Hooray!\n"
     ]
    }
   ],
   "source": [
    "if 5 == 15 / 3:\n",
    "    print(\"Hooray!\")"
   ]
  },
  {
   "cell_type": "code",
   "execution_count": 2,
   "id": "d1c25390-9098-4bb2-9519-6ead4d504afa",
   "metadata": {},
   "outputs": [],
   "source": [
    "if 5 == 18/3:\n",
    "    print(\"Hooray!\")"
   ]
  },
  {
   "cell_type": "code",
   "execution_count": 3,
   "id": "1b3568ee-2224-4c6c-9e4e-e6117e66f5c4",
   "metadata": {},
   "outputs": [
    {
     "name": "stdout",
     "output_type": "stream",
     "text": [
      "Hooray\n"
     ]
    }
   ],
   "source": [
    "if 5 != 3 * 6:\n",
    "    print(\"Hooray\")"
   ]
  },
  {
   "cell_type": "markdown",
   "id": "99cf818b-b1ef-4217-b190-936d880747ea",
   "metadata": {},
   "source": [
    "Add an Else"
   ]
  },
  {
   "cell_type": "code",
   "execution_count": 5,
   "id": "f0ee262b-7902-4f3a-b7e5-3c6490cf411c",
   "metadata": {},
   "outputs": [
    {
     "name": "stdout",
     "output_type": "stream",
     "text": [
      "Case 2\n"
     ]
    }
   ],
   "source": [
    "x = 1\n",
    "if x > 3:\n",
    "    print(\"Case 1\")\n",
    "else:\n",
    "    print(\"Case 2\")"
   ]
  },
  {
   "cell_type": "markdown",
   "id": "23675f4e-d6eb-490a-87b1-db7a4ea6492a",
   "metadata": {},
   "source": [
    "Else if, for Brief - Elif"
   ]
  },
  {
   "cell_type": "code",
   "execution_count": 12,
   "id": "df43256e-bc16-4a56-a063-2746e712ae59",
   "metadata": {},
   "outputs": [],
   "source": [
    "def compare_to_five(y) :\n",
    "    if y > 5:\n",
    "        return \"Greater\"\n",
    "    elif y < 0:\n",
    "        return \"Negative\"\n",
    "    elif y < 5:\n",
    "        return \"Less\"\n",
    "    else:\n",
    "        return \"Equal\""
   ]
  },
  {
   "cell_type": "code",
   "execution_count": 7,
   "id": "6a24a44d-a7e5-499c-aeb5-cf6d3ff8853a",
   "metadata": {},
   "outputs": [
    {
     "name": "stdout",
     "output_type": "stream",
     "text": [
      "Greater\n"
     ]
    }
   ],
   "source": [
    "print(compare_to_five(10))"
   ]
  },
  {
   "cell_type": "code",
   "execution_count": 8,
   "id": "75bd3dff-e91d-404a-b606-d6bd4e062064",
   "metadata": {},
   "outputs": [
    {
     "name": "stdout",
     "output_type": "stream",
     "text": [
      "Less\n"
     ]
    }
   ],
   "source": [
    "print(compare_to_five(2))"
   ]
  },
  {
   "cell_type": "code",
   "execution_count": 9,
   "id": "85f271be-34c3-4eaf-9159-7a5abbca884c",
   "metadata": {},
   "outputs": [
    {
     "name": "stdout",
     "output_type": "stream",
     "text": [
      "Equal\n"
     ]
    }
   ],
   "source": [
    "print(compare_to_five(5))"
   ]
  },
  {
   "cell_type": "code",
   "execution_count": 13,
   "id": "9738bb19-3637-47d8-b685-49353745c693",
   "metadata": {},
   "outputs": [
    {
     "name": "stdout",
     "output_type": "stream",
     "text": [
      "Negative\n"
     ]
    }
   ],
   "source": [
    "print(compare_to_five(-3))"
   ]
  },
  {
   "cell_type": "code",
   "execution_count": 14,
   "id": "79037662-b1e8-46cd-b6bb-86b979b7766c",
   "metadata": {},
   "outputs": [
    {
     "name": "stdout",
     "output_type": "stream",
     "text": [
      "Less\n"
     ]
    }
   ],
   "source": [
    "print(compare_to_five(3))"
   ]
  },
  {
   "cell_type": "markdown",
   "id": "5538737b-0170-4bd1-b32c-b76c589ea71d",
   "metadata": {},
   "source": [
    "A Note on Boolean values"
   ]
  },
  {
   "cell_type": "code",
   "execution_count": 15,
   "id": "3b80f1a0-7ad5-4707-951c-1bf3ced0157a",
   "metadata": {},
   "outputs": [
    {
     "name": "stdout",
     "output_type": "stream",
     "text": [
      "Incorrect\n"
     ]
    }
   ],
   "source": [
    "x = 2\n",
    "if x > 4:\n",
    "    print(\"Correct\")\n",
    "else:\n",
    "    print(\"Incorrect\")"
   ]
  },
  {
   "cell_type": "code",
   "execution_count": null,
   "id": "20aab3c0-8a9c-48c9-b7ce-b7c96b856c86",
   "metadata": {},
   "outputs": [],
   "source": []
  }
 ],
 "metadata": {
  "kernelspec": {
   "display_name": "Python 3 (ipykernel)",
   "language": "python",
   "name": "python3"
  },
  "language_info": {
   "codemirror_mode": {
    "name": "ipython",
    "version": 3
   },
   "file_extension": ".py",
   "mimetype": "text/x-python",
   "name": "python",
   "nbconvert_exporter": "python",
   "pygments_lexer": "ipython3",
   "version": "3.12.7"
  }
 },
 "nbformat": 4,
 "nbformat_minor": 5
}
