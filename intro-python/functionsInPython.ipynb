{
 "cells": [
  {
   "cell_type": "code",
   "execution_count": 1,
   "id": "5bfcc1a0-d18d-4b84-914c-d37a862edc5d",
   "metadata": {},
   "outputs": [],
   "source": [
    "def  simple():\n",
    "    print(\"My first function\")\n"
   ]
  },
  {
   "cell_type": "code",
   "execution_count": 2,
   "id": "60eadca7-f5f8-416c-9371-9f78130132a1",
   "metadata": {},
   "outputs": [
    {
     "name": "stdout",
     "output_type": "stream",
     "text": [
      "My first function\n"
     ]
    }
   ],
   "source": [
    "simple()"
   ]
  },
  {
   "cell_type": "code",
   "execution_count": 3,
   "id": "013cdb11-5623-4ce5-8a17-f263c54bd7ae",
   "metadata": {},
   "outputs": [],
   "source": [
    "def plus_ten(a):\n",
    "    return a + 10"
   ]
  },
  {
   "cell_type": "code",
   "execution_count": 4,
   "id": "bb86e2a6-c2ec-4c22-ae8d-0673edc996fe",
   "metadata": {},
   "outputs": [
    {
     "data": {
      "text/plain": [
       "12"
      ]
     },
     "execution_count": 4,
     "metadata": {},
     "output_type": "execute_result"
    }
   ],
   "source": [
    "plus_ten(2)"
   ]
  },
  {
   "cell_type": "code",
   "execution_count": 5,
   "id": "e224e1f7-95c3-496a-be16-e88082c53d2a",
   "metadata": {},
   "outputs": [
    {
     "data": {
      "text/plain": [
       "15"
      ]
     },
     "execution_count": 5,
     "metadata": {},
     "output_type": "execute_result"
    }
   ],
   "source": [
    "plus_ten(5)"
   ]
  },
  {
   "cell_type": "code",
   "execution_count": 13,
   "id": "bcf56e61-c9bb-430a-a1bb-b64c11f51d5f",
   "metadata": {},
   "outputs": [],
   "source": [
    "def plus_ten(a):\n",
    "    result = a + 10\n",
    "    print(\"Outcome:\")\n",
    "    return result"
   ]
  },
  {
   "cell_type": "code",
   "execution_count": 14,
   "id": "1da3f62c-dcc3-4ceb-a8fe-25d1af23fe47",
   "metadata": {},
   "outputs": [
    {
     "name": "stdout",
     "output_type": "stream",
     "text": [
      "Outcome:\n"
     ]
    },
    {
     "data": {
      "text/plain": [
       "12"
      ]
     },
     "execution_count": 14,
     "metadata": {},
     "output_type": "execute_result"
    }
   ],
   "source": [
    "plus_ten(2)"
   ]
  },
  {
   "cell_type": "code",
   "execution_count": 15,
   "id": "887fe63b-3b8d-4a22-9fcf-8a4449ddd098",
   "metadata": {},
   "outputs": [],
   "source": [
    "def wage(w_hours):\n",
    "    return w_hours * 25\n",
    "\n",
    "def with_bonus(w_hours):\n",
    "    return wage(w_hours) + 50"
   ]
  },
  {
   "cell_type": "code",
   "execution_count": 17,
   "id": "eb1b57d4-a51a-498a-bfb7-6531e16da2e3",
   "metadata": {},
   "outputs": [
    {
     "data": {
      "text/plain": [
       "(200, 250)"
      ]
     },
     "execution_count": 17,
     "metadata": {},
     "output_type": "execute_result"
    }
   ],
   "source": [
    "wage(8), with_bonus(8)"
   ]
  },
  {
   "cell_type": "code",
   "execution_count": 18,
   "id": "96c20f0e-9f9a-486a-a281-f7a54f4a7999",
   "metadata": {},
   "outputs": [],
   "source": [
    "def add_10(m):\n",
    "    if m >= 100:\n",
    "        m = m + 10\n",
    "        return m\n",
    "    else:\n",
    "        print(\"Save more\")"
   ]
  },
  {
   "cell_type": "code",
   "execution_count": 19,
   "id": "22517193-7c24-47da-9e68-a9864ffaafb4",
   "metadata": {},
   "outputs": [
    {
     "data": {
      "text/plain": [
       "120"
      ]
     },
     "execution_count": 19,
     "metadata": {},
     "output_type": "execute_result"
    }
   ],
   "source": [
    "add_10(110)"
   ]
  },
  {
   "cell_type": "code",
   "execution_count": 20,
   "id": "581ed160-586e-41ea-8227-fc2f08f1e324",
   "metadata": {},
   "outputs": [
    {
     "name": "stdout",
     "output_type": "stream",
     "text": [
      "Save more\n"
     ]
    }
   ],
   "source": [
    "add_10(50)"
   ]
  },
  {
   "cell_type": "code",
   "execution_count": 21,
   "id": "f6f609b7-b7fe-4af6-9de6-e5a48038100f",
   "metadata": {},
   "outputs": [],
   "source": [
    "def subtract_bc(a, b, c):\n",
    "    result = a - b * c\n",
    "    print(\"Parameter a equals\", a)\n",
    "    print(\"Parameter b equals\", b)\n",
    "    print(\"Parameter c equals\", c)\n",
    "    return result"
   ]
  },
  {
   "cell_type": "code",
   "execution_count": 22,
   "id": "57d272bc-f3b6-48b3-985b-8a377e909386",
   "metadata": {},
   "outputs": [
    {
     "name": "stdout",
     "output_type": "stream",
     "text": [
      "Parameter a equals 10\n",
      "Parameter b equals 3\n",
      "Parameter c equals 2\n"
     ]
    },
    {
     "data": {
      "text/plain": [
       "4"
      ]
     },
     "execution_count": 22,
     "metadata": {},
     "output_type": "execute_result"
    }
   ],
   "source": [
    "subtract_bc(10,3,2)"
   ]
  },
  {
   "cell_type": "code",
   "execution_count": 27,
   "id": "c9cbfa43-4324-4e8f-87f8-2f6255960b80",
   "metadata": {},
   "outputs": [
    {
     "name": "stdout",
     "output_type": "stream",
     "text": [
      "Parameter a equals 10\n",
      "Parameter b equals 3\n",
      "Parameter c equals 2\n"
     ]
    },
    {
     "data": {
      "text/plain": [
       "4"
      ]
     },
     "execution_count": 27,
     "metadata": {},
     "output_type": "execute_result"
    }
   ],
   "source": [
    "subtract_bc(b=3, a=10, c=2)"
   ]
  },
  {
   "cell_type": "code",
   "execution_count": 28,
   "id": "98b289db-8f72-4c03-a77b-0ae67c33b484",
   "metadata": {},
   "outputs": [
    {
     "data": {
      "text/plain": [
       "int"
      ]
     },
     "execution_count": 28,
     "metadata": {},
     "output_type": "execute_result"
    }
   ],
   "source": [
    "type(10)"
   ]
  },
  {
   "cell_type": "code",
   "execution_count": 29,
   "id": "9aaadc28-f088-4518-a2f6-faf2be91ad24",
   "metadata": {},
   "outputs": [
    {
     "data": {
      "text/plain": [
       "30"
      ]
     },
     "execution_count": 29,
     "metadata": {},
     "output_type": "execute_result"
    }
   ],
   "source": [
    "max(10,20,30)"
   ]
  },
  {
   "cell_type": "code",
   "execution_count": 30,
   "id": "7d426209-248c-4861-900b-c353753a4296",
   "metadata": {},
   "outputs": [
    {
     "data": {
      "text/plain": [
       "10"
      ]
     },
     "execution_count": 30,
     "metadata": {},
     "output_type": "execute_result"
    }
   ],
   "source": [
    "min(10,20,30)"
   ]
  },
  {
   "cell_type": "code",
   "execution_count": 32,
   "id": "7126a34e-2109-4c6d-aea4-67ad7a614960",
   "metadata": {},
   "outputs": [
    {
     "data": {
      "text/plain": [
       "20"
      ]
     },
     "execution_count": 32,
     "metadata": {},
     "output_type": "execute_result"
    }
   ],
   "source": [
    "z=-20\n",
    "abs(z)"
   ]
  },
  {
   "cell_type": "code",
   "execution_count": 33,
   "id": "4b420f31-2fff-4951-8e75-7da2862eab47",
   "metadata": {},
   "outputs": [],
   "source": [
    "list_1 = [1, 2, 3, 4]"
   ]
  },
  {
   "cell_type": "code",
   "execution_count": 34,
   "id": "a70b7fb7-d926-4c32-8557-1db571f19856",
   "metadata": {},
   "outputs": [
    {
     "data": {
      "text/plain": [
       "10"
      ]
     },
     "execution_count": 34,
     "metadata": {},
     "output_type": "execute_result"
    }
   ],
   "source": [
    "sum(list_1)"
   ]
  },
  {
   "cell_type": "code",
   "execution_count": 36,
   "id": "cad565e7-f2dd-4934-b488-25214d9d5eca",
   "metadata": {},
   "outputs": [
    {
     "data": {
      "text/plain": [
       "3.56"
      ]
     },
     "execution_count": 36,
     "metadata": {},
     "output_type": "execute_result"
    }
   ],
   "source": [
    "round(3.555, 2)"
   ]
  },
  {
   "cell_type": "code",
   "execution_count": 37,
   "id": "9085c7a6-fe52-4bf3-9d8e-f022b68b5d81",
   "metadata": {},
   "outputs": [
    {
     "data": {
      "text/plain": [
       "3"
      ]
     },
     "execution_count": 37,
     "metadata": {},
     "output_type": "execute_result"
    }
   ],
   "source": [
    "round(3.2)"
   ]
  },
  {
   "cell_type": "code",
   "execution_count": 38,
   "id": "532de9e9-5791-4d71-af23-0fb03ddb0fa0",
   "metadata": {},
   "outputs": [
    {
     "data": {
      "text/plain": [
       "1024"
      ]
     },
     "execution_count": 38,
     "metadata": {},
     "output_type": "execute_result"
    }
   ],
   "source": [
    "pow(2, 10)"
   ]
  },
  {
   "cell_type": "code",
   "execution_count": 39,
   "id": "62087ba8-4d43-4a04-bf95-e49e395a8bb9",
   "metadata": {},
   "outputs": [
    {
     "data": {
      "text/plain": [
       "11"
      ]
     },
     "execution_count": 39,
     "metadata": {},
     "output_type": "execute_result"
    }
   ],
   "source": [
    "len(\"Mathematics\")"
   ]
  },
  {
   "cell_type": "code",
   "execution_count": null,
   "id": "6fb229d2-2c44-48f0-a09e-b0fc06c51b7a",
   "metadata": {},
   "outputs": [],
   "source": []
  }
 ],
 "metadata": {
  "kernelspec": {
   "display_name": "Python 3 (ipykernel)",
   "language": "python",
   "name": "python3"
  },
  "language_info": {
   "codemirror_mode": {
    "name": "ipython",
    "version": 3
   },
   "file_extension": ".py",
   "mimetype": "text/x-python",
   "name": "python",
   "nbconvert_exporter": "python",
   "pygments_lexer": "ipython3",
   "version": "3.12.7"
  }
 },
 "nbformat": 4,
 "nbformat_minor": 5
}
