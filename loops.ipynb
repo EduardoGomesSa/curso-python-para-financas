{
 "cells": [
  {
   "cell_type": "code",
   "execution_count": 4,
   "id": "79fbe1e5-0bf4-44dc-beff-449faea8c4f1",
   "metadata": {},
   "outputs": [
    {
     "name": "stdout",
     "output_type": "stream",
     "text": [
      "0\n",
      "2\n",
      "4\n",
      "6\n",
      "8\n",
      "10\n",
      "12\n",
      "14\n",
      "16\n",
      "18\n",
      "20\n"
     ]
    }
   ],
   "source": [
    "even = [0, 2, 4, 6, 8, 10, 12, 14, 16, 18, 20]\n",
    "for n in even:\n",
    "    print(n,)"
   ]
  },
  {
   "cell_type": "code",
   "execution_count": 8,
   "id": "b53ca33d-580b-4495-b8f8-4b82c0d40e1f",
   "metadata": {},
   "outputs": [
    {
     "name": "stdout",
     "output_type": "stream",
     "text": [
      "0\n",
      "2\n",
      "4\n",
      "6\n",
      "8\n",
      "10\n",
      "12\n",
      "14\n",
      "16\n",
      "18\n",
      "20\n"
     ]
    }
   ],
   "source": [
    "x = 0\n",
    "while x <= 20:\n",
    "    print(x)\n",
    "    x += 2"
   ]
  },
  {
   "cell_type": "code",
   "execution_count": 9,
   "id": "9d6b5df6-39a2-47a1-b582-626d5471d521",
   "metadata": {},
   "outputs": [
    {
     "data": {
      "text/plain": [
       "range(0, 10)"
      ]
     },
     "execution_count": 9,
     "metadata": {},
     "output_type": "execute_result"
    }
   ],
   "source": [
    "range(10)"
   ]
  },
  {
   "cell_type": "code",
   "execution_count": 10,
   "id": "a063f549-42e3-496d-b83b-1571b9e92e77",
   "metadata": {},
   "outputs": [
    {
     "data": {
      "text/plain": [
       "range(3, 7)"
      ]
     },
     "execution_count": 10,
     "metadata": {},
     "output_type": "execute_result"
    }
   ],
   "source": [
    "range(3, 7)"
   ]
  },
  {
   "cell_type": "code",
   "execution_count": 11,
   "id": "f7ef329d-4be9-4058-887c-07abfd92224d",
   "metadata": {},
   "outputs": [
    {
     "data": {
      "text/plain": [
       "range(1, 20, 2)"
      ]
     },
     "execution_count": 11,
     "metadata": {},
     "output_type": "execute_result"
    }
   ],
   "source": [
    "range(1, 20, 2)"
   ]
  },
  {
   "cell_type": "code",
   "execution_count": 12,
   "id": "2cdf45d3-86f2-4461-9bc3-35556f8dd67e",
   "metadata": {},
   "outputs": [
    {
     "data": {
      "text/plain": [
       "[1, 3, 5, 7, 9, 11, 13, 15, 17, 19]"
      ]
     },
     "execution_count": 12,
     "metadata": {},
     "output_type": "execute_result"
    }
   ],
   "source": [
    "list(range(1, 20, 2))"
   ]
  },
  {
   "cell_type": "code",
   "execution_count": 13,
   "id": "156e8265-6d32-4eee-99ca-ec4b697f9207",
   "metadata": {},
   "outputs": [
    {
     "name": "stdout",
     "output_type": "stream",
     "text": [
      "1\n",
      "2\n",
      "4\n",
      "8\n",
      "16\n",
      "32\n",
      "64\n",
      "128\n",
      "256\n",
      "512\n"
     ]
    }
   ],
   "source": [
    "for n in list(range(10)):\n",
    "    print(2 ** n),"
   ]
  },
  {
   "cell_type": "code",
   "execution_count": 14,
   "id": "e8c2a686-99b0-4cc1-b713-8cbba7d59e06",
   "metadata": {},
   "outputs": [
    {
     "name": "stdout",
     "output_type": "stream",
     "text": [
      "0\n",
      "Odd\n",
      "2\n",
      "Odd\n",
      "4\n",
      "Odd\n",
      "6\n",
      "Odd\n",
      "8\n",
      "Odd\n",
      "10\n",
      "Odd\n",
      "12\n",
      "Odd\n",
      "14\n",
      "Odd\n",
      "16\n",
      "Odd\n",
      "18\n",
      "Odd\n"
     ]
    }
   ],
   "source": [
    "for x in list(range(20)):\n",
    "    if x % 2 == 0:\n",
    "        print(x)\n",
    "    else:\n",
    "        print(\"Odd\")"
   ]
  },
  {
   "cell_type": "code",
   "execution_count": 15,
   "id": "9e211df8-f2a9-4c5d-93a5-2bea3cc133c4",
   "metadata": {},
   "outputs": [
    {
     "name": "stdout",
     "output_type": "stream",
     "text": [
      "0\n",
      "1\n",
      "2\n"
     ]
    }
   ],
   "source": [
    "x = [0, 1, 2]\n",
    "for item in x:\n",
    "    print(item)"
   ]
  },
  {
   "cell_type": "code",
   "execution_count": 16,
   "id": "7eb2d229-233a-4df2-8310-cd190b3b9f6c",
   "metadata": {},
   "outputs": [
    {
     "name": "stdout",
     "output_type": "stream",
     "text": [
      "0\n",
      "1\n",
      "2\n"
     ]
    }
   ],
   "source": [
    "for item in range(len(x)):\n",
    "    print(x[item])"
   ]
  },
  {
   "cell_type": "code",
   "execution_count": 17,
   "id": "5bbbc3fd-1f5a-459e-b20d-35ef178391ac",
   "metadata": {},
   "outputs": [],
   "source": [
    "# All In"
   ]
  },
  {
   "cell_type": "code",
   "execution_count": 23,
   "id": "a9159cbd-300d-4cc1-b7db-8568ab4d1dc8",
   "metadata": {},
   "outputs": [],
   "source": [
    "def count(numbers):\n",
    "    total = 0\n",
    "    for x in numbers:\n",
    "        if x < 20:\n",
    "          total += 1\n",
    "    return total"
   ]
  },
  {
   "cell_type": "code",
   "execution_count": 26,
   "id": "485edd59-af93-491f-855f-33f902f6eee0",
   "metadata": {},
   "outputs": [],
   "source": [
    "list_1 = [1, 3, 7, 15, 23, 43, 56, 98, 17]"
   ]
  },
  {
   "cell_type": "code",
   "execution_count": 27,
   "id": "03705b13-b004-4957-9297-9d2bbe5eec0b",
   "metadata": {},
   "outputs": [
    {
     "data": {
      "text/plain": [
       "5"
      ]
     },
     "execution_count": 27,
     "metadata": {},
     "output_type": "execute_result"
    }
   ],
   "source": [
    "count(list_1)"
   ]
  },
  {
   "cell_type": "code",
   "execution_count": 29,
   "id": "77dd080b-20f5-438b-8f90-9b59b1a48aac",
   "metadata": {},
   "outputs": [],
   "source": [
    "prices = {\n",
    "    \"box_of_spaghetti\": 4,\n",
    "    \"lasagna\": 5,\n",
    "    \"hamburger\": 2\n",
    "}\n",
    "quantity = {\n",
    "    \"box_of_spaghetti\": 6,\n",
    "    \"lasagna\": 10,\n",
    "    \"hamburger\": 0\n",
    "}"
   ]
  },
  {
   "cell_type": "code",
   "execution_count": 30,
   "id": "75c135fd-349e-4792-a5fa-a2684a226aaa",
   "metadata": {},
   "outputs": [
    {
     "name": "stdout",
     "output_type": "stream",
     "text": [
      "74\n"
     ]
    }
   ],
   "source": [
    "money_spent = 0\n",
    "for i in prices:\n",
    "    money_spent = money_spent + (prices[i] * quantity[i])\n",
    "print(money_spent)    "
   ]
  },
  {
   "cell_type": "code",
   "execution_count": null,
   "id": "e61b7389-f27c-4185-ad62-68fd97732eb9",
   "metadata": {},
   "outputs": [],
   "source": []
  },
  {
   "cell_type": "code",
   "execution_count": null,
   "id": "44e9b6aa-3f13-4d9d-a1eb-4548d9a247c0",
   "metadata": {},
   "outputs": [],
   "source": []
  },
  {
   "cell_type": "code",
   "execution_count": null,
   "id": "f3efb1ff-898c-4575-a7e1-af46f5ae5d86",
   "metadata": {},
   "outputs": [],
   "source": []
  }
 ],
 "metadata": {
  "kernelspec": {
   "display_name": "Python 3 (ipykernel)",
   "language": "python",
   "name": "python3"
  },
  "language_info": {
   "codemirror_mode": {
    "name": "ipython",
    "version": 3
   },
   "file_extension": ".py",
   "mimetype": "text/x-python",
   "name": "python",
   "nbconvert_exporter": "python",
   "pygments_lexer": "ipython3",
   "version": "3.12.7"
  }
 },
 "nbformat": 4,
 "nbformat_minor": 5
}
