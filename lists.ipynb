{
 "cells": [
  {
   "cell_type": "code",
   "execution_count": 3,
   "id": "bd91fdf2-7514-43bc-aeee-f5c58665298e",
   "metadata": {},
   "outputs": [
    {
     "data": {
      "text/plain": [
       "['John', 'Leila', 'Gregory', 'Cate']"
      ]
     },
     "execution_count": 3,
     "metadata": {},
     "output_type": "execute_result"
    }
   ],
   "source": [
    "Participants = ['John', 'Leila', 'Gregory', 'Cate']\n",
    "Participants"
   ]
  },
  {
   "cell_type": "code",
   "execution_count": 5,
   "id": "eedb359c-1755-439b-9201-f2aceed68747",
   "metadata": {},
   "outputs": [
    {
     "name": "stdout",
     "output_type": "stream",
     "text": [
      "Leila\n"
     ]
    }
   ],
   "source": [
    "print(Participants[1])"
   ]
  },
  {
   "cell_type": "code",
   "execution_count": 7,
   "id": "ae1b3211-96b2-43cd-ab40-29f9349e4351",
   "metadata": {},
   "outputs": [
    {
     "data": {
      "text/plain": [
       "'Gregory'"
      ]
     },
     "execution_count": 7,
     "metadata": {},
     "output_type": "execute_result"
    }
   ],
   "source": [
    "Participants[-2]"
   ]
  },
  {
   "cell_type": "code",
   "execution_count": 9,
   "id": "36c01555-f8be-4a65-afdd-1449381e081a",
   "metadata": {},
   "outputs": [
    {
     "data": {
      "text/plain": [
       "['John', 'Leila', 'Gregory', 'Maria']"
      ]
     },
     "execution_count": 9,
     "metadata": {},
     "output_type": "execute_result"
    }
   ],
   "source": [
    "Participants[3] = 'Maria'\n",
    "Participants"
   ]
  },
  {
   "cell_type": "code",
   "execution_count": 11,
   "id": "a1d414b3-ee92-4e03-9d4a-7f0b7c525750",
   "metadata": {},
   "outputs": [
    {
     "data": {
      "text/plain": [
       "['John', 'Leila']"
      ]
     },
     "execution_count": 11,
     "metadata": {},
     "output_type": "execute_result"
    }
   ],
   "source": [
    "del Participants[2]\n",
    "Participants"
   ]
  },
  {
   "cell_type": "code",
   "execution_count": 12,
   "id": "5eef3a77-c967-4458-bbad-860b84406cbe",
   "metadata": {},
   "outputs": [
    {
     "ename": "IndexError",
     "evalue": "list index out of range",
     "output_type": "error",
     "traceback": [
      "\u001b[0;31m---------------------------------------------------------------------------\u001b[0m",
      "\u001b[0;31mIndexError\u001b[0m                                Traceback (most recent call last)",
      "Cell \u001b[0;32mIn[12], line 1\u001b[0m\n\u001b[0;32m----> 1\u001b[0m Participants[\u001b[38;5;241m2\u001b[39m]\n",
      "\u001b[0;31mIndexError\u001b[0m: list index out of range"
     ]
    }
   ],
   "source": [
    "Participants[2]"
   ]
  },
  {
   "cell_type": "code",
   "execution_count": 14,
   "id": "fac00a61-3fb8-4b0b-ad81-3f52bce17153",
   "metadata": {},
   "outputs": [
    {
     "data": {
      "text/plain": [
       "['John', 'Leila', 'Dwayne', 'Dwayne']"
      ]
     },
     "execution_count": 14,
     "metadata": {},
     "output_type": "execute_result"
    }
   ],
   "source": [
    "Participants.append(\"Dwayne\")\n",
    "Participants"
   ]
  },
  {
   "cell_type": "code",
   "execution_count": 16,
   "id": "46c3abe4-b8ca-4297-8419-c88cee49a762",
   "metadata": {},
   "outputs": [
    {
     "data": {
      "text/plain": [
       "['John', 'Leila', 'Dwayne', 'Dwayne', 'George', 'Catherine']"
      ]
     },
     "execution_count": 16,
     "metadata": {},
     "output_type": "execute_result"
    }
   ],
   "source": [
    "Participants.extend(['George', 'Catherine'])\n",
    "Participants"
   ]
  },
  {
   "cell_type": "code",
   "execution_count": 19,
   "id": "2c6d1dfd-0621-4862-a41a-2b163126c81c",
   "metadata": {},
   "outputs": [
    {
     "name": "stdout",
     "output_type": "stream",
     "text": [
      "The first participant is John.\n"
     ]
    }
   ],
   "source": [
    "print('The first participant is '+ Participants[0] + '.')"
   ]
  },
  {
   "cell_type": "code",
   "execution_count": 20,
   "id": "a5ad0ae1-15fd-4e40-905b-d73dba49ef64",
   "metadata": {},
   "outputs": [
    {
     "data": {
      "text/plain": [
       "7"
      ]
     },
     "execution_count": 20,
     "metadata": {},
     "output_type": "execute_result"
    }
   ],
   "source": [
    "len('Dolphin')"
   ]
  },
  {
   "cell_type": "code",
   "execution_count": 21,
   "id": "af298c57-80d9-4741-ac99-6978e083ea57",
   "metadata": {},
   "outputs": [
    {
     "data": {
      "text/plain": [
       "6"
      ]
     },
     "execution_count": 21,
     "metadata": {},
     "output_type": "execute_result"
    }
   ],
   "source": [
    "len(Participants)"
   ]
  },
  {
   "cell_type": "code",
   "execution_count": 22,
   "id": "36897bea-5c25-4f05-bfba-cc41696fc090",
   "metadata": {},
   "outputs": [],
   "source": [
    "# List Slicing"
   ]
  },
  {
   "cell_type": "code",
   "execution_count": 23,
   "id": "5da09a69-cf6c-4968-8872-efb7e397ce19",
   "metadata": {},
   "outputs": [
    {
     "data": {
      "text/plain": [
       "['Leila', 'Dwayne']"
      ]
     },
     "execution_count": 23,
     "metadata": {},
     "output_type": "execute_result"
    }
   ],
   "source": [
    "Participants[1:3]"
   ]
  },
  {
   "cell_type": "code",
   "execution_count": 24,
   "id": "dd21fad4-b7f9-4086-a9a2-f95864c5ad32",
   "metadata": {},
   "outputs": [
    {
     "data": {
      "text/plain": [
       "['John', 'Leila']"
      ]
     },
     "execution_count": 24,
     "metadata": {},
     "output_type": "execute_result"
    }
   ],
   "source": [
    "Participants[:2]"
   ]
  },
  {
   "cell_type": "code",
   "execution_count": 26,
   "id": "866f97b7-5d6e-402c-b4b7-a61b0698ae03",
   "metadata": {},
   "outputs": [
    {
     "data": {
      "text/plain": [
       "['George', 'Catherine']"
      ]
     },
     "execution_count": 26,
     "metadata": {},
     "output_type": "execute_result"
    }
   ],
   "source": [
    "Participants[4:]"
   ]
  },
  {
   "cell_type": "code",
   "execution_count": 28,
   "id": "dd6f1c4c-7360-4923-9c90-a7a7a3375886",
   "metadata": {},
   "outputs": [
    {
     "data": {
      "text/plain": [
       "['George', 'Catherine']"
      ]
     },
     "execution_count": 28,
     "metadata": {},
     "output_type": "execute_result"
    }
   ],
   "source": [
    "Participants[-2:]"
   ]
  },
  {
   "cell_type": "code",
   "execution_count": 30,
   "id": "492d76d0-1a8d-4289-8637-e994beb9388a",
   "metadata": {},
   "outputs": [
    {
     "data": {
      "text/plain": [
       "2"
      ]
     },
     "execution_count": 30,
     "metadata": {},
     "output_type": "execute_result"
    }
   ],
   "source": [
    "Participants.index(\"Dwayne\")"
   ]
  },
  {
   "cell_type": "code",
   "execution_count": 31,
   "id": "0eb69dc6-d71b-466a-9ec5-070b785d7396",
   "metadata": {},
   "outputs": [
    {
     "data": {
      "text/plain": [
       "['Joshua', 'Brittany']"
      ]
     },
     "execution_count": 31,
     "metadata": {},
     "output_type": "execute_result"
    }
   ],
   "source": [
    "newComers = ['Joshua', 'Brittany']\n",
    "newComers"
   ]
  },
  {
   "cell_type": "code",
   "execution_count": 32,
   "id": "0550ef70-ebe4-4fcf-b4df-7054607bbdfa",
   "metadata": {},
   "outputs": [
    {
     "data": {
      "text/plain": [
       "[['John', 'Leila', 'Dwayne', 'Dwayne', 'George', 'Catherine'],\n",
       " ['Joshua', 'Brittany']]"
      ]
     },
     "execution_count": 32,
     "metadata": {},
     "output_type": "execute_result"
    }
   ],
   "source": [
    "Bigger_List = [Participants, newComers]\n",
    "Bigger_List"
   ]
  },
  {
   "cell_type": "code",
   "execution_count": 34,
   "id": "0da4910b-e476-487f-b11d-b1c269e798db",
   "metadata": {},
   "outputs": [
    {
     "data": {
      "text/plain": [
       "['Catherine', 'Dwayne', 'Dwayne', 'George', 'John', 'Leila']"
      ]
     },
     "execution_count": 34,
     "metadata": {},
     "output_type": "execute_result"
    }
   ],
   "source": [
    "Participants.sort()\n",
    "Participants"
   ]
  },
  {
   "cell_type": "code",
   "execution_count": 36,
   "id": "14011072-1acd-4517-8e9c-44f0ae286587",
   "metadata": {},
   "outputs": [
    {
     "data": {
      "text/plain": [
       "['Leila', 'John', 'George', 'Dwayne', 'Dwayne', 'Catherine']"
      ]
     },
     "execution_count": 36,
     "metadata": {},
     "output_type": "execute_result"
    }
   ],
   "source": [
    "Participants.sort(reverse=True)\n",
    "Participants"
   ]
  },
  {
   "cell_type": "code",
   "execution_count": 37,
   "id": "c45c681d-77a9-45a8-b097-882b54895f05",
   "metadata": {},
   "outputs": [
    {
     "data": {
      "text/plain": [
       "[1, 2, 3, 4, 5]"
      ]
     },
     "execution_count": 37,
     "metadata": {},
     "output_type": "execute_result"
    }
   ],
   "source": [
    "Numbers = [1, 2, 3, 4, 5]\n",
    "Numbers.sort()\n",
    "Numbers"
   ]
  },
  {
   "cell_type": "code",
   "execution_count": 39,
   "id": "2cb8b3d1-860f-4829-bb71-1f8fb6e08cb3",
   "metadata": {},
   "outputs": [
    {
     "data": {
      "text/plain": [
       "[5, 4, 3, 2, 1]"
      ]
     },
     "execution_count": 39,
     "metadata": {},
     "output_type": "execute_result"
    }
   ],
   "source": [
    "Numbers.sort(reverse=True)\n",
    "Numbers"
   ]
  },
  {
   "cell_type": "code",
   "execution_count": 40,
   "id": "86f1873d-dce9-4466-a077-779394257fe0",
   "metadata": {},
   "outputs": [],
   "source": [
    "# Tuplas"
   ]
  },
  {
   "cell_type": "code",
   "execution_count": 41,
   "id": "78a03646-8ae3-4aff-baa1-c169793da54b",
   "metadata": {},
   "outputs": [
    {
     "data": {
      "text/plain": [
       "(40, 41, 42)"
      ]
     },
     "execution_count": 41,
     "metadata": {},
     "output_type": "execute_result"
    }
   ],
   "source": [
    "x = (40, 41, 42)\n",
    "x"
   ]
  },
  {
   "cell_type": "code",
   "execution_count": 42,
   "id": "21ee98d7-eb66-4129-9171-6faa56d91fd9",
   "metadata": {},
   "outputs": [
    {
     "data": {
      "text/plain": [
       "(50, 51, 52)"
      ]
     },
     "execution_count": 42,
     "metadata": {},
     "output_type": "execute_result"
    }
   ],
   "source": [
    "y = 50, 51, 52\n",
    "y"
   ]
  },
  {
   "cell_type": "code",
   "execution_count": 43,
   "id": "710aa54a-be29-418d-85d8-bda7247cdaba",
   "metadata": {},
   "outputs": [
    {
     "data": {
      "text/plain": [
       "6"
      ]
     },
     "execution_count": 43,
     "metadata": {},
     "output_type": "execute_result"
    }
   ],
   "source": [
    "a,b,c = 1,4,6\n",
    "c"
   ]
  },
  {
   "cell_type": "code",
   "execution_count": 44,
   "id": "2cfd2e01-1e52-4d2d-bcf5-cce0db67a67b",
   "metadata": {},
   "outputs": [
    {
     "data": {
      "text/plain": [
       "40"
      ]
     },
     "execution_count": 44,
     "metadata": {},
     "output_type": "execute_result"
    }
   ],
   "source": [
    "x[0]"
   ]
  },
  {
   "cell_type": "code",
   "execution_count": 45,
   "id": "60889c41-09da-463e-93ce-f551fad2eae4",
   "metadata": {},
   "outputs": [
    {
     "data": {
      "text/plain": [
       "[(40, 41, 42), (50, 51, 52)]"
      ]
     },
     "execution_count": 45,
     "metadata": {},
     "output_type": "execute_result"
    }
   ],
   "source": [
    "List = [x, y]\n",
    "List"
   ]
  },
  {
   "cell_type": "code",
   "execution_count": 46,
   "id": "1871bfe4-a152-42cb-895c-c1d4a0258d6f",
   "metadata": {},
   "outputs": [
    {
     "name": "stdout",
     "output_type": "stream",
     "text": [
      "30\n",
      " 17\n"
     ]
    }
   ],
   "source": [
    "(age, years_of_school) = \"30, 17\".split(',')\n",
    "print(age)\n",
    "print(years_of_school)"
   ]
  },
  {
   "cell_type": "code",
   "execution_count": 47,
   "id": "1eb1fd14-9248-4ac0-8e21-47474bb98cfe",
   "metadata": {},
   "outputs": [
    {
     "name": "stdout",
     "output_type": "stream",
     "text": [
      "Area and Perimeter: \n"
     ]
    },
    {
     "data": {
      "text/plain": [
       "(9, 12)"
      ]
     },
     "execution_count": 47,
     "metadata": {},
     "output_type": "execute_result"
    }
   ],
   "source": [
    "def square_info(x):\n",
    "    A = x ** 2\n",
    "    P = 4 * x\n",
    "    print(\"Area and Perimeter: \")\n",
    "    return A,P\n",
    "\n",
    "square_info(3)"
   ]
  },
  {
   "cell_type": "code",
   "execution_count": 48,
   "id": "f2f267c2-3377-423c-8c43-d99face4fe10",
   "metadata": {},
   "outputs": [],
   "source": [
    "# Dictionaries "
   ]
  },
  {
   "cell_type": "code",
   "execution_count": 50,
   "id": "1d9417cf-2a12-4d5e-b003-269ab56d1be9",
   "metadata": {},
   "outputs": [
    {
     "data": {
      "text/plain": [
       "{'k1': 'cat', 'k2': 'dog', 'k3': 'mouse', 'k4': 'fish'}"
      ]
     },
     "execution_count": 50,
     "metadata": {},
     "output_type": "execute_result"
    }
   ],
   "source": [
    "dict = {'k1':'cat', 'k2':'dog', 'k3':'mouse', 'k4':'fish'}\n",
    "dict"
   ]
  },
  {
   "cell_type": "code",
   "execution_count": 51,
   "id": "d45b025d-757b-4cd1-9b14-a25849310fad",
   "metadata": {},
   "outputs": [
    {
     "data": {
      "text/plain": [
       "'cat'"
      ]
     },
     "execution_count": 51,
     "metadata": {},
     "output_type": "execute_result"
    }
   ],
   "source": [
    "dict['k1']"
   ]
  },
  {
   "cell_type": "code",
   "execution_count": 52,
   "id": "f544eec0-a678-42ef-924c-5518e444ae11",
   "metadata": {},
   "outputs": [
    {
     "data": {
      "text/plain": [
       "'mouse'"
      ]
     },
     "execution_count": 52,
     "metadata": {},
     "output_type": "execute_result"
    }
   ],
   "source": [
    "dict['k3']"
   ]
  },
  {
   "cell_type": "code",
   "execution_count": 53,
   "id": "14cfe7fc-3688-4f2f-9fc6-06629bdbdeef",
   "metadata": {},
   "outputs": [
    {
     "data": {
      "text/plain": [
       "{'k1': 'cat', 'k2': 'dog', 'k3': 'mouse', 'k4': 'fish', 'k5': 'parrot'}"
      ]
     },
     "execution_count": 53,
     "metadata": {},
     "output_type": "execute_result"
    }
   ],
   "source": [
    "dict['k5'] = 'parrot'\n",
    "dict"
   ]
  },
  {
   "cell_type": "code",
   "execution_count": 54,
   "id": "2d409c1d-cf90-4ef2-b938-a2fe3ffa4e43",
   "metadata": {},
   "outputs": [
    {
     "data": {
      "text/plain": [
       "{'k1': 'cat', 'k2': 'squirrel', 'k3': 'mouse', 'k4': 'fish', 'k5': 'parrot'}"
      ]
     },
     "execution_count": 54,
     "metadata": {},
     "output_type": "execute_result"
    }
   ],
   "source": [
    "dict['k2'] = 'squirrel'\n",
    "dict"
   ]
  },
  {
   "cell_type": "code",
   "execution_count": 55,
   "id": "7abb83bf-0d92-4f6e-8ea8-35b63b33f432",
   "metadata": {},
   "outputs": [],
   "source": [
    "dep_workers = {'dep_1':'Peter', 'dep_2':['Jennifer', 'Michael', 'Tommy']}"
   ]
  },
  {
   "cell_type": "code",
   "execution_count": 57,
   "id": "cd2df2bc-edee-450d-95b7-582b324af69d",
   "metadata": {},
   "outputs": [
    {
     "data": {
      "text/plain": [
       "['Jennifer', 'Michael', 'Tommy']"
      ]
     },
     "execution_count": 57,
     "metadata": {},
     "output_type": "execute_result"
    }
   ],
   "source": [
    "dep_workers['dep_2']"
   ]
  },
  {
   "cell_type": "code",
   "execution_count": 59,
   "id": "39802037-6f2d-4397-99e4-d1ab58811ee7",
   "metadata": {},
   "outputs": [],
   "source": [
    "Team = {}\n",
    "Team['Point Guard'] = 'Dirk'\n",
    "Team['Shooting Guard'] = 'Al'\n",
    "Team['Small Forward'] = 'Sean'\n",
    "Team['Power Forward'] = 'Alexander'\n",
    "Team['Center'] = 'Hector'"
   ]
  },
  {
   "cell_type": "code",
   "execution_count": 60,
   "id": "b5884442-4901-4256-9a65-efcf2cce6e43",
   "metadata": {},
   "outputs": [
    {
     "name": "stdout",
     "output_type": "stream",
     "text": [
      "{'Point Guard': 'Dirk', 'Shooting Guard': 'Al', 'Small Forward': 'Sean', 'Power Forward': 'Alexander', 'Center': 'Hector'}\n"
     ]
    }
   ],
   "source": [
    "print(Team)"
   ]
  },
  {
   "cell_type": "code",
   "execution_count": 61,
   "id": "5df08332-798d-4772-8309-c5d96f562988",
   "metadata": {},
   "outputs": [
    {
     "name": "stdout",
     "output_type": "stream",
     "text": [
      "Hector\n"
     ]
    }
   ],
   "source": [
    "print(Team['Center'])"
   ]
  },
  {
   "cell_type": "code",
   "execution_count": 63,
   "id": "93b1685f-640a-4a68-85b6-97dfc07bf29c",
   "metadata": {},
   "outputs": [
    {
     "name": "stdout",
     "output_type": "stream",
     "text": [
      "Sean\n"
     ]
    }
   ],
   "source": [
    "print(Team.get('Small Forward'))"
   ]
  },
  {
   "cell_type": "code",
   "execution_count": 64,
   "id": "c1932323-f551-4f7c-b257-ff4d072379f5",
   "metadata": {},
   "outputs": [
    {
     "name": "stdout",
     "output_type": "stream",
     "text": [
      "None\n"
     ]
    }
   ],
   "source": [
    "print(Team.get('Coach'))"
   ]
  },
  {
   "cell_type": "code",
   "execution_count": null,
   "id": "0d88c9ec-050d-44d7-a972-b3fa6be92ee5",
   "metadata": {},
   "outputs": [],
   "source": []
  }
 ],
 "metadata": {
  "kernelspec": {
   "display_name": "Python 3 (ipykernel)",
   "language": "python",
   "name": "python3"
  },
  "language_info": {
   "codemirror_mode": {
    "name": "ipython",
    "version": 3
   },
   "file_extension": ".py",
   "mimetype": "text/x-python",
   "name": "python",
   "nbconvert_exporter": "python",
   "pygments_lexer": "ipython3",
   "version": "3.12.7"
  }
 },
 "nbformat": 4,
 "nbformat_minor": 5
}
